{
  "nbformat": 4,
  "nbformat_minor": 0,
  "metadata": {
    "colab": {
      "provenance": []
    },
    "kernelspec": {
      "name": "python3",
      "display_name": "Python 3"
    },
    "language_info": {
      "name": "python"
    }
  },
  "cells": [
    {
      "cell_type": "markdown",
      "source": [
        "# Training Regression Model for Wine Quality Estimator\n",
        "\n"
      ],
      "metadata": {
        "id": "Q9-hm02hOERB"
      }
    },
    {
      "cell_type": "markdown",
      "source": [
        "## Install Dependencies\n",
        "\n",
        "python dependencies:\n",
        "- mantik\n",
        "- mlflow\n",
        "- gitpython\n",
        "\n",
        "pyenv dependencies:\n",
        "- virtualenv\n",
        "- pyenv (itself)"
      ],
      "metadata": {
        "id": "fAQVKl71OlNI"
      }
    },
    {
      "cell_type": "code",
      "execution_count": 11,
      "metadata": {
        "colab": {
          "base_uri": "https://localhost:8080/"
        },
        "outputId": "94c6f431-aa11-4fdd-fbf5-4e6d8e7856eb",
        "id": "FdO7aHvhxUpv"
      },
      "outputs": [
        {
          "output_type": "stream",
          "name": "stdout",
          "text": [
            "Requirement already satisfied: mantik in /usr/local/lib/python3.10/dist-packages (0.5.0)\n",
            "Requirement already satisfied: mlflow in /usr/local/lib/python3.10/dist-packages (2.12.2)\n",
            "Requirement already satisfied: virtualenv in /usr/local/lib/python3.10/dist-packages (20.26.1)\n",
            "Requirement already satisfied: gitpython in /usr/local/lib/python3.10/dist-packages (3.1.43)\n",
            "Requirement already satisfied: PyYAML<7.0,>=6.0 in /usr/local/lib/python3.10/dist-packages (from mantik) (6.0.1)\n",
            "Requirement already satisfied: click<9.0.0,>=8.1.3 in /usr/local/lib/python3.10/dist-packages (from mantik) (8.1.7)\n",
            "Requirement already satisfied: gputil<2.0.0,>=1.4.0 in /usr/local/lib/python3.10/dist-packages (from mantik) (1.4.0)\n",
            "Requirement already satisfied: psutil<6.0.0,>=5.9.6 in /usr/local/lib/python3.10/dist-packages (from mantik) (5.9.8)\n",
            "Requirement already satisfied: py-cpuinfo<10.0.0,>=9.0.0 in /usr/local/lib/python3.10/dist-packages (from mantik) (9.0.0)\n",
            "Requirement already satisfied: pyfirecrest<3.0.0,>=2.2.0 in /usr/local/lib/python3.10/dist-packages (from mantik) (2.4.0)\n",
            "Requirement already satisfied: python-jose<4.0.0,>=3.3.0 in /usr/local/lib/python3.10/dist-packages (from mantik) (3.3.0)\n",
            "Requirement already satisfied: requests<3.0.0,>=2.27.1 in /usr/local/lib/python3.10/dist-packages (from mantik) (2.31.0)\n",
            "Requirement already satisfied: Flask<4 in /usr/local/lib/python3.10/dist-packages (from mlflow) (2.2.5)\n",
            "Requirement already satisfied: alembic!=1.10.0,<2 in /usr/local/lib/python3.10/dist-packages (from mlflow) (1.13.1)\n",
            "Requirement already satisfied: cloudpickle<4 in /usr/local/lib/python3.10/dist-packages (from mlflow) (2.2.1)\n",
            "Requirement already satisfied: docker<8,>=4.0.0 in /usr/local/lib/python3.10/dist-packages (from mlflow) (7.0.0)\n",
            "Requirement already satisfied: entrypoints<1 in /usr/local/lib/python3.10/dist-packages (from mlflow) (0.4)\n",
            "Requirement already satisfied: graphene<4 in /usr/local/lib/python3.10/dist-packages (from mlflow) (3.3)\n",
            "Requirement already satisfied: importlib-metadata!=4.7.0,<8,>=3.7.0 in /usr/local/lib/python3.10/dist-packages (from mlflow) (7.1.0)\n",
            "Requirement already satisfied: markdown<4,>=3.3 in /usr/local/lib/python3.10/dist-packages (from mlflow) (3.6)\n",
            "Requirement already satisfied: matplotlib<4 in /usr/local/lib/python3.10/dist-packages (from mlflow) (3.7.1)\n",
            "Requirement already satisfied: numpy<2 in /usr/local/lib/python3.10/dist-packages (from mlflow) (1.25.2)\n",
            "Requirement already satisfied: packaging<25 in /usr/local/lib/python3.10/dist-packages (from mlflow) (24.0)\n",
            "Requirement already satisfied: pandas<3 in /usr/local/lib/python3.10/dist-packages (from mlflow) (2.0.3)\n",
            "Requirement already satisfied: protobuf<5,>=3.12.0 in /usr/local/lib/python3.10/dist-packages (from mlflow) (3.20.3)\n",
            "Requirement already satisfied: pyarrow<16,>=4.0.0 in /usr/local/lib/python3.10/dist-packages (from mlflow) (14.0.2)\n",
            "Requirement already satisfied: pytz<2025 in /usr/local/lib/python3.10/dist-packages (from mlflow) (2023.4)\n",
            "Requirement already satisfied: querystring-parser<2 in /usr/local/lib/python3.10/dist-packages (from mlflow) (1.2.4)\n",
            "Requirement already satisfied: scikit-learn<2 in /usr/local/lib/python3.10/dist-packages (from mlflow) (1.2.2)\n",
            "Requirement already satisfied: scipy<2 in /usr/local/lib/python3.10/dist-packages (from mlflow) (1.11.4)\n",
            "Requirement already satisfied: sqlalchemy<3,>=1.4.0 in /usr/local/lib/python3.10/dist-packages (from mlflow) (2.0.30)\n",
            "Requirement already satisfied: sqlparse<1,>=0.4.0 in /usr/local/lib/python3.10/dist-packages (from mlflow) (0.5.0)\n",
            "Requirement already satisfied: Jinja2<4,>=2.11 in /usr/local/lib/python3.10/dist-packages (from mlflow) (3.1.4)\n",
            "Requirement already satisfied: gunicorn<23 in /usr/local/lib/python3.10/dist-packages (from mlflow) (22.0.0)\n",
            "Requirement already satisfied: distlib<1,>=0.3.7 in /usr/local/lib/python3.10/dist-packages (from virtualenv) (0.3.8)\n",
            "Requirement already satisfied: filelock<4,>=3.12.2 in /usr/local/lib/python3.10/dist-packages (from virtualenv) (3.14.0)\n",
            "Requirement already satisfied: platformdirs<5,>=3.9.1 in /usr/local/lib/python3.10/dist-packages (from virtualenv) (4.2.1)\n",
            "Requirement already satisfied: gitdb<5,>=4.0.1 in /usr/local/lib/python3.10/dist-packages (from gitpython) (4.0.11)\n",
            "Requirement already satisfied: Mako in /usr/local/lib/python3.10/dist-packages (from alembic!=1.10.0,<2->mlflow) (1.3.3)\n",
            "Requirement already satisfied: typing-extensions>=4 in /usr/local/lib/python3.10/dist-packages (from alembic!=1.10.0,<2->mlflow) (4.11.0)\n",
            "Requirement already satisfied: urllib3>=1.26.0 in /usr/local/lib/python3.10/dist-packages (from docker<8,>=4.0.0->mlflow) (2.0.7)\n",
            "Requirement already satisfied: Werkzeug>=2.2.2 in /usr/local/lib/python3.10/dist-packages (from Flask<4->mlflow) (3.0.3)\n",
            "Requirement already satisfied: itsdangerous>=2.0 in /usr/local/lib/python3.10/dist-packages (from Flask<4->mlflow) (2.2.0)\n",
            "Requirement already satisfied: smmap<6,>=3.0.1 in /usr/local/lib/python3.10/dist-packages (from gitdb<5,>=4.0.1->gitpython) (5.0.1)\n",
            "Requirement already satisfied: graphql-core<3.3,>=3.1 in /usr/local/lib/python3.10/dist-packages (from graphene<4->mlflow) (3.2.3)\n",
            "Requirement already satisfied: graphql-relay<3.3,>=3.1 in /usr/local/lib/python3.10/dist-packages (from graphene<4->mlflow) (3.2.0)\n",
            "Requirement already satisfied: aniso8601<10,>=8 in /usr/local/lib/python3.10/dist-packages (from graphene<4->mlflow) (9.0.1)\n",
            "Requirement already satisfied: zipp>=0.5 in /usr/local/lib/python3.10/dist-packages (from importlib-metadata!=4.7.0,<8,>=3.7.0->mlflow) (3.18.1)\n",
            "Requirement already satisfied: MarkupSafe>=2.0 in /usr/local/lib/python3.10/dist-packages (from Jinja2<4,>=2.11->mlflow) (2.1.5)\n",
            "Requirement already satisfied: contourpy>=1.0.1 in /usr/local/lib/python3.10/dist-packages (from matplotlib<4->mlflow) (1.2.1)\n",
            "Requirement already satisfied: cycler>=0.10 in /usr/local/lib/python3.10/dist-packages (from matplotlib<4->mlflow) (0.12.1)\n",
            "Requirement already satisfied: fonttools>=4.22.0 in /usr/local/lib/python3.10/dist-packages (from matplotlib<4->mlflow) (4.51.0)\n",
            "Requirement already satisfied: kiwisolver>=1.0.1 in /usr/local/lib/python3.10/dist-packages (from matplotlib<4->mlflow) (1.4.5)\n",
            "Requirement already satisfied: pillow>=6.2.0 in /usr/local/lib/python3.10/dist-packages (from matplotlib<4->mlflow) (9.4.0)\n",
            "Requirement already satisfied: pyparsing>=2.3.1 in /usr/local/lib/python3.10/dist-packages (from matplotlib<4->mlflow) (3.1.2)\n",
            "Requirement already satisfied: python-dateutil>=2.7 in /usr/local/lib/python3.10/dist-packages (from matplotlib<4->mlflow) (2.8.2)\n",
            "Requirement already satisfied: tzdata>=2022.1 in /usr/local/lib/python3.10/dist-packages (from pandas<3->mlflow) (2024.1)\n",
            "Requirement already satisfied: PyJWT>=2.4.0 in /usr/local/lib/python3.10/dist-packages (from pyfirecrest<3.0.0,>=2.2.0->mantik) (2.8.0)\n",
            "Requirement already satisfied: typer[all]~=0.7.0 in /usr/local/lib/python3.10/dist-packages (from pyfirecrest<3.0.0,>=2.2.0->mantik) (0.7.0)\n",
            "Requirement already satisfied: httpx>=0.24.0 in /usr/local/lib/python3.10/dist-packages (from pyfirecrest<3.0.0,>=2.2.0->mantik) (0.27.0)\n",
            "Requirement already satisfied: ecdsa!=0.15 in /usr/local/lib/python3.10/dist-packages (from python-jose<4.0.0,>=3.3.0->mantik) (0.19.0)\n",
            "Requirement already satisfied: rsa in /usr/local/lib/python3.10/dist-packages (from python-jose<4.0.0,>=3.3.0->mantik) (4.9)\n",
            "Requirement already satisfied: pyasn1 in /usr/local/lib/python3.10/dist-packages (from python-jose<4.0.0,>=3.3.0->mantik) (0.6.0)\n",
            "Requirement already satisfied: six in /usr/local/lib/python3.10/dist-packages (from querystring-parser<2->mlflow) (1.16.0)\n",
            "Requirement already satisfied: charset-normalizer<4,>=2 in /usr/local/lib/python3.10/dist-packages (from requests<3.0.0,>=2.27.1->mantik) (3.3.2)\n",
            "Requirement already satisfied: idna<4,>=2.5 in /usr/local/lib/python3.10/dist-packages (from requests<3.0.0,>=2.27.1->mantik) (3.7)\n",
            "Requirement already satisfied: certifi>=2017.4.17 in /usr/local/lib/python3.10/dist-packages (from requests<3.0.0,>=2.27.1->mantik) (2024.2.2)\n",
            "Requirement already satisfied: joblib>=1.1.1 in /usr/local/lib/python3.10/dist-packages (from scikit-learn<2->mlflow) (1.4.2)\n",
            "Requirement already satisfied: threadpoolctl>=2.0.0 in /usr/local/lib/python3.10/dist-packages (from scikit-learn<2->mlflow) (3.5.0)\n",
            "Requirement already satisfied: greenlet!=0.4.17 in /usr/local/lib/python3.10/dist-packages (from sqlalchemy<3,>=1.4.0->mlflow) (3.0.3)\n",
            "Requirement already satisfied: anyio in /usr/local/lib/python3.10/dist-packages (from httpx>=0.24.0->pyfirecrest<3.0.0,>=2.2.0->mantik) (3.7.1)\n",
            "Requirement already satisfied: httpcore==1.* in /usr/local/lib/python3.10/dist-packages (from httpx>=0.24.0->pyfirecrest<3.0.0,>=2.2.0->mantik) (1.0.5)\n",
            "Requirement already satisfied: sniffio in /usr/local/lib/python3.10/dist-packages (from httpx>=0.24.0->pyfirecrest<3.0.0,>=2.2.0->mantik) (1.3.1)\n",
            "Requirement already satisfied: h11<0.15,>=0.13 in /usr/local/lib/python3.10/dist-packages (from httpcore==1.*->httpx>=0.24.0->pyfirecrest<3.0.0,>=2.2.0->mantik) (0.14.0)\n",
            "Requirement already satisfied: colorama<0.5.0,>=0.4.3 in /usr/local/lib/python3.10/dist-packages (from typer[all]~=0.7.0->pyfirecrest<3.0.0,>=2.2.0->mantik) (0.4.6)\n",
            "Requirement already satisfied: shellingham<2.0.0,>=1.3.0 in /usr/local/lib/python3.10/dist-packages (from typer[all]~=0.7.0->pyfirecrest<3.0.0,>=2.2.0->mantik) (1.5.4)\n",
            "Requirement already satisfied: rich<13.0.0,>=10.11.0 in /usr/local/lib/python3.10/dist-packages (from typer[all]~=0.7.0->pyfirecrest<3.0.0,>=2.2.0->mantik) (12.6.0)\n",
            "Requirement already satisfied: commonmark<0.10.0,>=0.9.0 in /usr/local/lib/python3.10/dist-packages (from rich<13.0.0,>=10.11.0->typer[all]~=0.7.0->pyfirecrest<3.0.0,>=2.2.0->mantik) (0.9.1)\n",
            "Requirement already satisfied: pygments<3.0.0,>=2.6.0 in /usr/local/lib/python3.10/dist-packages (from rich<13.0.0,>=10.11.0->typer[all]~=0.7.0->pyfirecrest<3.0.0,>=2.2.0->mantik) (2.16.1)\n",
            "Requirement already satisfied: exceptiongroup in /usr/local/lib/python3.10/dist-packages (from anyio->httpx>=0.24.0->pyfirecrest<3.0.0,>=2.2.0->mantik) (1.2.1)\n",
            "fatal: destination path '/root/.pyenv' already exists and is not an empty directory.\n",
            "Reading package lists... Done\n",
            "Building dependency tree... Done\n",
            "Reading state information... Done\n",
            "libffi-dev is already the newest version (3.4.2-4).\n",
            "0 upgraded, 0 newly installed, 0 to remove and 45 not upgraded.\n"
          ]
        }
      ],
      "source": [
        "!pip install mantik mlflow virtualenv gitpython\n",
        "!git clone https://github.com/pyenv/pyenv.git ~/.pyenv\n",
        "import os\n",
        "os.environ[\"PATH\"]=f'{os.environ[\"HOME\"]}/.pyenv/bin:{os.environ[\"PATH\"]}'\n",
        "!apt install libffi-dev"
      ]
    },
    {
      "cell_type": "markdown",
      "source": [
        "## Load Username and Password\n",
        "\n",
        "> NOTE:\n",
        ">\n",
        "> Set username and password as two secrets in Colab. You can add secrets by clicking on the key icon on the left-side. The two secrets must have `username` and `password` as names."
      ],
      "metadata": {
        "id": "LzIN1JW5Pznq"
      }
    },
    {
      "cell_type": "code",
      "source": [
        "from google.colab import userdata\n",
        "\n",
        "import os\n",
        "os.environ[\"MANTIK_USERNAME\"]=userdata.get('username')\n",
        "os.environ[\"MANTIK_PASSWORD\"]=userdata.get('password')\n"
      ],
      "metadata": {
        "id": "AXSEU5w1ujqs"
      },
      "execution_count": 12,
      "outputs": []
    },
    {
      "cell_type": "markdown",
      "source": [
        "## Export Mantik AUTH-Token"
      ],
      "metadata": {
        "id": "UvFKxWOxQUwa"
      }
    },
    {
      "cell_type": "code",
      "source": [
        "import mantik.tracking.track as track\n",
        "\n",
        "os.environ[\"MLFLOW_TRACKING_TOKEN\"] = track.init_tracking().token"
      ],
      "metadata": {
        "id": "g9n7_HfFuwbH"
      },
      "execution_count": 13,
      "outputs": []
    },
    {
      "cell_type": "markdown",
      "source": [
        "## Submit Mantik Run (Training)"
      ],
      "metadata": {
        "id": "kvskRrfmQchN"
      }
    },
    {
      "cell_type": "code",
      "source": [
        "os.environ[\"MANTIK_PROJECT_ID\"] = \"2c2a3541-ed84-4d8c-bb6f-795ffdfe6c67\"\n",
        "os.environ[\"MANTIK_EXPERIMENT_REPOSITORY_ID\"] = \"e3935add-4cec-4880-8423-e3e5608337cc\"\n",
        "os.environ[\"MANTIK_CODE_REPOSITORY_ID\"] = \"1a60f06a-b640-410c-b5bd-21b45d1c4afc\"\n",
        "\n",
        "!mantik runs local \"./wine-quality-estimator/MLproject\" --name \"WQE-Colab\" --branch=main -P \"alpha=0.1\""
      ],
      "metadata": {
        "colab": {
          "base_uri": "https://localhost:8080/"
        },
        "id": "JPPEuFjfu0Eu",
        "outputId": "e7948d17-23cc-410f-a9b0-35b9ec72a740"
      },
      "execution_count": 20,
      "outputs": [
        {
          "output_type": "stream",
          "name": "stdout",
          "text": [
            "2024/05/10 13:50:14 INFO mlflow.utils.virtualenv: Installing python 3.8.13 if it does not exist\n",
            "2024/05/10 13:50:14 INFO mlflow.utils.virtualenv: Creating a new environment in /root/.mlflow/envs/mlflow-9a165c23f4a821d350119ffe281a29a1ef289f6f with /root/.pyenv/versions/3.8.13/bin/python\n",
            "created virtual environment CPython3.8.13.final.0-64 in 527ms\n",
            "  creator CPython3Posix(dest=/root/.mlflow/envs/mlflow-9a165c23f4a821d350119ffe281a29a1ef289f6f, clear=False, no_vcs_ignore=False, global=False)\n",
            "  seeder FromAppData(download=False, pip=bundle, setuptools=bundle, wheel=bundle, via=copy, app_data_dir=/root/.local/share/virtualenv)\n",
            "    added seed packages: pip==24.0, setuptools==69.5.1, wheel==0.43.0\n",
            "  activators BashActivator,CShellActivator,FishActivator,NushellActivator,PowerShellActivator,PythonActivator\n",
            "2024/05/10 13:50:15 INFO mlflow.utils.virtualenv: Installing dependencies\n",
            "\u001b[2K   \u001b[90m━━━━━━━━━━━━━━━━━━━━━━━━━━━━━━━━━━━━━━━━\u001b[0m \u001b[32m6.8/6.8 MB\u001b[0m \u001b[31m35.0 MB/s\u001b[0m eta \u001b[36m0:00:00\u001b[0m\n",
            "\u001b[2K   \u001b[90m━━━━━━━━━━━━━━━━━━━━━━━━━━━━━━━━━━━━━━━━\u001b[0m \u001b[32m46.0/46.0 kB\u001b[0m \u001b[31m68.3 kB/s\u001b[0m eta \u001b[36m0:00:00\u001b[0m\n",
            "\u001b[2K   \u001b[90m━━━━━━━━━━━━━━━━━━━━━━━━━━━━━━━━━━━━━━━━\u001b[0m \u001b[32m5.7/5.7 MB\u001b[0m \u001b[31m48.5 MB/s\u001b[0m eta \u001b[36m0:00:00\u001b[0m\n",
            "\u001b[2K   \u001b[90m━━━━━━━━━━━━━━━━━━━━━━━━━━━━━━━━━━━━━━━━\u001b[0m \u001b[32m86.8/86.8 kB\u001b[0m \u001b[31m5.1 MB/s\u001b[0m eta \u001b[36m0:00:00\u001b[0m\n",
            "\u001b[2K   \u001b[90m━━━━━━━━━━━━━━━━━━━━━━━━━━━━━━━━━━━━━━━━\u001b[0m \u001b[32m536.2/536.2 kB\u001b[0m \u001b[31m20.9 MB/s\u001b[0m eta \u001b[36m0:00:00\u001b[0m\n",
            "\u001b[?25h2024/05/10 13:51:39 INFO mlflow.projects.utils: === Created directory /tmp/tmpmenx1q31 for downloading remote URIs passed to arguments of type 'path' ===\n",
            "2024/05/10 13:51:39 INFO mlflow.projects.backend.local: === Running command 'source /root/.mlflow/envs/mlflow-9a165c23f4a821d350119ffe281a29a1ef289f6f/bin/activate && python train.py --alpha 0.1 --l1-ratio 0.1' in run with ID 'dc76390c5d8d4b55825280cf20c31a48' === \n",
            "2024/05/10 13:51:44 INFO mlflow.tracking.fluent: Autologging successfully enabled for sklearn.\n",
            "Elasticnet model (alpha=0.100000, l1_ratio=0.100000):\n",
            "  RMSE: 0.7792546522251949\n",
            "  MAE: 0.6112547988118587\n",
            "  R2: 0.2157063843066196\n",
            "2024/05/10 13:52:06 INFO mlflow.projects: === Run (ID 'dc76390c5d8d4b55825280cf20c31a48') succeeded ===\n",
            "Done!\n"
          ]
        }
      ]
    }
  ]
}