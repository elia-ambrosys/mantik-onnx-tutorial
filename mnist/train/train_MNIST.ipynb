{
  "nbformat": 4,
  "nbformat_minor": 0,
  "metadata": {
    "colab": {
      "provenance": [],
      "gpuType": "T4"
    },
    "kernelspec": {
      "name": "python3",
      "display_name": "Python 3"
    },
    "language_info": {
      "name": "python"
    },
    "accelerator": "GPU"
  },
  "cells": [
    {
      "cell_type": "markdown",
      "source": [
        "# Training CNN for MNIST classification with GPU\n",
        "\n",
        "This project involves training a Convolutional Neural Network (CNN) for classifying MNIST data, focusing on handwritten digits. The use of a GPU will optimize training efficiency, accelerating the model's learning process.\n",
        "\n",
        "> NOTE:\n",
        ">\n",
        "> Make sure that the runtype of this Google Colab includes GPU, you can change you runtype in the dropdown menu next to RAM and Disk in the upper right corner. Change the runtype to `T4 GPU`."
      ],
      "metadata": {
        "id": "Q9-hm02hOERB"
      }
    },
    {
      "cell_type": "markdown",
      "source": [
        "## Install Dependencies\n",
        "\n",
        "python dependencies:\n",
        "- mantik\n",
        "- mlflow\n",
        "- gitpython\n",
        "\n",
        "pyenv dependencies:\n",
        "- virtualenv\n",
        "- pyenv (itself)\n",
        "\n",
        "gpu dependencies:\n",
        "- cuda"
      ],
      "metadata": {
        "id": "fAQVKl71OlNI"
      }
    },
    {
      "cell_type": "code",
      "execution_count": 5,
      "metadata": {
        "colab": {
          "base_uri": "https://localhost:8080/"
        },
        "outputId": "4fea490d-98aa-46db-ef3c-39da1ad8256c",
        "id": "FdO7aHvhxUpv"
      },
      "outputs": [
        {
          "output_type": "stream",
          "name": "stdout",
          "text": [
            "Requirement already satisfied: mantik in /usr/local/lib/python3.10/dist-packages (0.5.0)\n",
            "Requirement already satisfied: mlflow in /usr/local/lib/python3.10/dist-packages (2.12.2)\n",
            "Requirement already satisfied: virtualenv in /usr/local/lib/python3.10/dist-packages (20.26.1)\n",
            "Requirement already satisfied: gitpython in /usr/local/lib/python3.10/dist-packages (3.1.43)\n",
            "Requirement already satisfied: PyYAML<7.0,>=6.0 in /usr/local/lib/python3.10/dist-packages (from mantik) (6.0.1)\n",
            "Requirement already satisfied: click<9.0.0,>=8.1.3 in /usr/local/lib/python3.10/dist-packages (from mantik) (8.1.7)\n",
            "Requirement already satisfied: gputil<2.0.0,>=1.4.0 in /usr/local/lib/python3.10/dist-packages (from mantik) (1.4.0)\n",
            "Requirement already satisfied: psutil<6.0.0,>=5.9.6 in /usr/local/lib/python3.10/dist-packages (from mantik) (5.9.8)\n",
            "Requirement already satisfied: py-cpuinfo<10.0.0,>=9.0.0 in /usr/local/lib/python3.10/dist-packages (from mantik) (9.0.0)\n",
            "Requirement already satisfied: pyfirecrest<3.0.0,>=2.2.0 in /usr/local/lib/python3.10/dist-packages (from mantik) (2.4.0)\n",
            "Requirement already satisfied: python-jose<4.0.0,>=3.3.0 in /usr/local/lib/python3.10/dist-packages (from mantik) (3.3.0)\n",
            "Requirement already satisfied: requests<3.0.0,>=2.27.1 in /usr/local/lib/python3.10/dist-packages (from mantik) (2.31.0)\n",
            "Requirement already satisfied: Flask<4 in /usr/local/lib/python3.10/dist-packages (from mlflow) (2.2.5)\n",
            "Requirement already satisfied: alembic!=1.10.0,<2 in /usr/local/lib/python3.10/dist-packages (from mlflow) (1.13.1)\n",
            "Requirement already satisfied: cloudpickle<4 in /usr/local/lib/python3.10/dist-packages (from mlflow) (2.2.1)\n",
            "Requirement already satisfied: docker<8,>=4.0.0 in /usr/local/lib/python3.10/dist-packages (from mlflow) (7.0.0)\n",
            "Requirement already satisfied: entrypoints<1 in /usr/local/lib/python3.10/dist-packages (from mlflow) (0.4)\n",
            "Requirement already satisfied: graphene<4 in /usr/local/lib/python3.10/dist-packages (from mlflow) (3.3)\n",
            "Requirement already satisfied: importlib-metadata!=4.7.0,<8,>=3.7.0 in /usr/local/lib/python3.10/dist-packages (from mlflow) (7.1.0)\n",
            "Requirement already satisfied: markdown<4,>=3.3 in /usr/local/lib/python3.10/dist-packages (from mlflow) (3.6)\n",
            "Requirement already satisfied: matplotlib<4 in /usr/local/lib/python3.10/dist-packages (from mlflow) (3.7.1)\n",
            "Requirement already satisfied: numpy<2 in /usr/local/lib/python3.10/dist-packages (from mlflow) (1.25.2)\n",
            "Requirement already satisfied: packaging<25 in /usr/local/lib/python3.10/dist-packages (from mlflow) (24.0)\n",
            "Requirement already satisfied: pandas<3 in /usr/local/lib/python3.10/dist-packages (from mlflow) (2.0.3)\n",
            "Requirement already satisfied: protobuf<5,>=3.12.0 in /usr/local/lib/python3.10/dist-packages (from mlflow) (3.20.3)\n",
            "Requirement already satisfied: pyarrow<16,>=4.0.0 in /usr/local/lib/python3.10/dist-packages (from mlflow) (14.0.2)\n",
            "Requirement already satisfied: pytz<2025 in /usr/local/lib/python3.10/dist-packages (from mlflow) (2023.4)\n",
            "Requirement already satisfied: querystring-parser<2 in /usr/local/lib/python3.10/dist-packages (from mlflow) (1.2.4)\n",
            "Requirement already satisfied: scikit-learn<2 in /usr/local/lib/python3.10/dist-packages (from mlflow) (1.2.2)\n",
            "Requirement already satisfied: scipy<2 in /usr/local/lib/python3.10/dist-packages (from mlflow) (1.11.4)\n",
            "Requirement already satisfied: sqlalchemy<3,>=1.4.0 in /usr/local/lib/python3.10/dist-packages (from mlflow) (2.0.30)\n",
            "Requirement already satisfied: sqlparse<1,>=0.4.0 in /usr/local/lib/python3.10/dist-packages (from mlflow) (0.5.0)\n",
            "Requirement already satisfied: Jinja2<4,>=2.11 in /usr/local/lib/python3.10/dist-packages (from mlflow) (3.1.4)\n",
            "Requirement already satisfied: gunicorn<23 in /usr/local/lib/python3.10/dist-packages (from mlflow) (22.0.0)\n",
            "Requirement already satisfied: distlib<1,>=0.3.7 in /usr/local/lib/python3.10/dist-packages (from virtualenv) (0.3.8)\n",
            "Requirement already satisfied: filelock<4,>=3.12.2 in /usr/local/lib/python3.10/dist-packages (from virtualenv) (3.14.0)\n",
            "Requirement already satisfied: platformdirs<5,>=3.9.1 in /usr/local/lib/python3.10/dist-packages (from virtualenv) (4.2.1)\n",
            "Requirement already satisfied: gitdb<5,>=4.0.1 in /usr/local/lib/python3.10/dist-packages (from gitpython) (4.0.11)\n",
            "Requirement already satisfied: Mako in /usr/local/lib/python3.10/dist-packages (from alembic!=1.10.0,<2->mlflow) (1.3.3)\n",
            "Requirement already satisfied: typing-extensions>=4 in /usr/local/lib/python3.10/dist-packages (from alembic!=1.10.0,<2->mlflow) (4.11.0)\n",
            "Requirement already satisfied: urllib3>=1.26.0 in /usr/local/lib/python3.10/dist-packages (from docker<8,>=4.0.0->mlflow) (2.0.7)\n",
            "Requirement already satisfied: Werkzeug>=2.2.2 in /usr/local/lib/python3.10/dist-packages (from Flask<4->mlflow) (3.0.3)\n",
            "Requirement already satisfied: itsdangerous>=2.0 in /usr/local/lib/python3.10/dist-packages (from Flask<4->mlflow) (2.2.0)\n",
            "Requirement already satisfied: smmap<6,>=3.0.1 in /usr/local/lib/python3.10/dist-packages (from gitdb<5,>=4.0.1->gitpython) (5.0.1)\n",
            "Requirement already satisfied: graphql-core<3.3,>=3.1 in /usr/local/lib/python3.10/dist-packages (from graphene<4->mlflow) (3.2.3)\n",
            "Requirement already satisfied: graphql-relay<3.3,>=3.1 in /usr/local/lib/python3.10/dist-packages (from graphene<4->mlflow) (3.2.0)\n",
            "Requirement already satisfied: aniso8601<10,>=8 in /usr/local/lib/python3.10/dist-packages (from graphene<4->mlflow) (9.0.1)\n",
            "Requirement already satisfied: zipp>=0.5 in /usr/local/lib/python3.10/dist-packages (from importlib-metadata!=4.7.0,<8,>=3.7.0->mlflow) (3.18.1)\n",
            "Requirement already satisfied: MarkupSafe>=2.0 in /usr/local/lib/python3.10/dist-packages (from Jinja2<4,>=2.11->mlflow) (2.1.5)\n",
            "Requirement already satisfied: contourpy>=1.0.1 in /usr/local/lib/python3.10/dist-packages (from matplotlib<4->mlflow) (1.2.1)\n",
            "Requirement already satisfied: cycler>=0.10 in /usr/local/lib/python3.10/dist-packages (from matplotlib<4->mlflow) (0.12.1)\n",
            "Requirement already satisfied: fonttools>=4.22.0 in /usr/local/lib/python3.10/dist-packages (from matplotlib<4->mlflow) (4.51.0)\n",
            "Requirement already satisfied: kiwisolver>=1.0.1 in /usr/local/lib/python3.10/dist-packages (from matplotlib<4->mlflow) (1.4.5)\n",
            "Requirement already satisfied: pillow>=6.2.0 in /usr/local/lib/python3.10/dist-packages (from matplotlib<4->mlflow) (9.4.0)\n",
            "Requirement already satisfied: pyparsing>=2.3.1 in /usr/local/lib/python3.10/dist-packages (from matplotlib<4->mlflow) (3.1.2)\n",
            "Requirement already satisfied: python-dateutil>=2.7 in /usr/local/lib/python3.10/dist-packages (from matplotlib<4->mlflow) (2.8.2)\n",
            "Requirement already satisfied: tzdata>=2022.1 in /usr/local/lib/python3.10/dist-packages (from pandas<3->mlflow) (2024.1)\n",
            "Requirement already satisfied: PyJWT>=2.4.0 in /usr/local/lib/python3.10/dist-packages (from pyfirecrest<3.0.0,>=2.2.0->mantik) (2.8.0)\n",
            "Requirement already satisfied: typer[all]~=0.7.0 in /usr/local/lib/python3.10/dist-packages (from pyfirecrest<3.0.0,>=2.2.0->mantik) (0.7.0)\n",
            "Requirement already satisfied: httpx>=0.24.0 in /usr/local/lib/python3.10/dist-packages (from pyfirecrest<3.0.0,>=2.2.0->mantik) (0.27.0)\n",
            "Requirement already satisfied: ecdsa!=0.15 in /usr/local/lib/python3.10/dist-packages (from python-jose<4.0.0,>=3.3.0->mantik) (0.19.0)\n",
            "Requirement already satisfied: rsa in /usr/local/lib/python3.10/dist-packages (from python-jose<4.0.0,>=3.3.0->mantik) (4.9)\n",
            "Requirement already satisfied: pyasn1 in /usr/local/lib/python3.10/dist-packages (from python-jose<4.0.0,>=3.3.0->mantik) (0.6.0)\n",
            "Requirement already satisfied: six in /usr/local/lib/python3.10/dist-packages (from querystring-parser<2->mlflow) (1.16.0)\n",
            "Requirement already satisfied: charset-normalizer<4,>=2 in /usr/local/lib/python3.10/dist-packages (from requests<3.0.0,>=2.27.1->mantik) (3.3.2)\n",
            "Requirement already satisfied: idna<4,>=2.5 in /usr/local/lib/python3.10/dist-packages (from requests<3.0.0,>=2.27.1->mantik) (3.7)\n",
            "Requirement already satisfied: certifi>=2017.4.17 in /usr/local/lib/python3.10/dist-packages (from requests<3.0.0,>=2.27.1->mantik) (2024.2.2)\n",
            "Requirement already satisfied: joblib>=1.1.1 in /usr/local/lib/python3.10/dist-packages (from scikit-learn<2->mlflow) (1.4.2)\n",
            "Requirement already satisfied: threadpoolctl>=2.0.0 in /usr/local/lib/python3.10/dist-packages (from scikit-learn<2->mlflow) (3.5.0)\n",
            "Requirement already satisfied: greenlet!=0.4.17 in /usr/local/lib/python3.10/dist-packages (from sqlalchemy<3,>=1.4.0->mlflow) (3.0.3)\n",
            "Requirement already satisfied: anyio in /usr/local/lib/python3.10/dist-packages (from httpx>=0.24.0->pyfirecrest<3.0.0,>=2.2.0->mantik) (3.7.1)\n",
            "Requirement already satisfied: httpcore==1.* in /usr/local/lib/python3.10/dist-packages (from httpx>=0.24.0->pyfirecrest<3.0.0,>=2.2.0->mantik) (1.0.5)\n",
            "Requirement already satisfied: sniffio in /usr/local/lib/python3.10/dist-packages (from httpx>=0.24.0->pyfirecrest<3.0.0,>=2.2.0->mantik) (1.3.1)\n",
            "Requirement already satisfied: h11<0.15,>=0.13 in /usr/local/lib/python3.10/dist-packages (from httpcore==1.*->httpx>=0.24.0->pyfirecrest<3.0.0,>=2.2.0->mantik) (0.14.0)\n",
            "Requirement already satisfied: colorama<0.5.0,>=0.4.3 in /usr/local/lib/python3.10/dist-packages (from typer[all]~=0.7.0->pyfirecrest<3.0.0,>=2.2.0->mantik) (0.4.6)\n",
            "Requirement already satisfied: shellingham<2.0.0,>=1.3.0 in /usr/local/lib/python3.10/dist-packages (from typer[all]~=0.7.0->pyfirecrest<3.0.0,>=2.2.0->mantik) (1.5.4)\n",
            "Requirement already satisfied: rich<13.0.0,>=10.11.0 in /usr/local/lib/python3.10/dist-packages (from typer[all]~=0.7.0->pyfirecrest<3.0.0,>=2.2.0->mantik) (12.6.0)\n",
            "Requirement already satisfied: commonmark<0.10.0,>=0.9.0 in /usr/local/lib/python3.10/dist-packages (from rich<13.0.0,>=10.11.0->typer[all]~=0.7.0->pyfirecrest<3.0.0,>=2.2.0->mantik) (0.9.1)\n",
            "Requirement already satisfied: pygments<3.0.0,>=2.6.0 in /usr/local/lib/python3.10/dist-packages (from rich<13.0.0,>=10.11.0->typer[all]~=0.7.0->pyfirecrest<3.0.0,>=2.2.0->mantik) (2.16.1)\n",
            "Requirement already satisfied: exceptiongroup in /usr/local/lib/python3.10/dist-packages (from anyio->httpx>=0.24.0->pyfirecrest<3.0.0,>=2.2.0->mantik) (1.2.1)\n",
            "fatal: destination path '/root/.pyenv' already exists and is not an empty directory.\n",
            "Reading package lists... Done\n",
            "Building dependency tree... Done\n",
            "Reading state information... Done\n",
            "The following additional packages will be installed:\n",
            "  cuda-toolkit-11-8-config-common cuda-toolkit-11-config-common\n",
            "The following NEW packages will be installed:\n",
            "  cuda-cudart-11-8 cuda-toolkit-11-8-config-common cuda-toolkit-11-config-common libffi-dev\n",
            "0 upgraded, 4 newly installed, 0 to remove and 45 not upgraded.\n",
            "Need to get 0 B/262 kB of archives.\n",
            "After this operation, 1,274 kB of additional disk space will be used.\n",
            "Selecting previously unselected package cuda-toolkit-11-config-common.\n",
            "(Reading database ... 121918 files and directories currently installed.)\n",
            "Preparing to unpack .../cuda-toolkit-11-config-common_11.8.89-1_all.deb ...\n",
            "Unpacking cuda-toolkit-11-config-common (11.8.89-1) ...\n",
            "Selecting previously unselected package cuda-toolkit-11-8-config-common.\n",
            "Preparing to unpack .../cuda-toolkit-11-8-config-common_11.8.89-1_all.deb ...\n",
            "Unpacking cuda-toolkit-11-8-config-common (11.8.89-1) ...\n",
            "Selecting previously unselected package cuda-cudart-11-8.\n",
            "Preparing to unpack .../cuda-cudart-11-8_11.8.89-1_amd64.deb ...\n",
            "Unpacking cuda-cudart-11-8 (11.8.89-1) ...\n",
            "Selecting previously unselected package libffi-dev:amd64.\n",
            "Preparing to unpack .../libffi-dev_3.4.2-4_amd64.deb ...\n",
            "Unpacking libffi-dev:amd64 (3.4.2-4) ...\n",
            "Setting up cuda-toolkit-11-config-common (11.8.89-1) ...\n",
            "Setting up libffi-dev:amd64 (3.4.2-4) ...\n",
            "Setting up cuda-toolkit-11-8-config-common (11.8.89-1) ...\n",
            "Setting alternatives\n",
            "update-alternatives: using /usr/local/cuda-11.8 to provide /usr/local/cuda-11 (cuda-11) in auto mode\n",
            "Setting up cuda-cudart-11-8 (11.8.89-1) ...\n",
            "Processing triggers for man-db (2.10.2-1) ...\n",
            "Processing triggers for libc-bin (2.35-0ubuntu3.4) ...\n",
            "/sbin/ldconfig.real: /usr/local/lib/libtbbmalloc.so.2 is not a symbolic link\n",
            "\n",
            "/sbin/ldconfig.real: /usr/local/lib/libtbbmalloc_proxy.so.2 is not a symbolic link\n",
            "\n",
            "/sbin/ldconfig.real: /usr/local/lib/libtbbbind_2_5.so.3 is not a symbolic link\n",
            "\n",
            "/sbin/ldconfig.real: /usr/local/lib/libtbb.so.12 is not a symbolic link\n",
            "\n",
            "/sbin/ldconfig.real: /usr/local/lib/libtbbbind.so.3 is not a symbolic link\n",
            "\n",
            "/sbin/ldconfig.real: /usr/local/lib/libtbbbind_2_0.so.3 is not a symbolic link\n",
            "\n"
          ]
        }
      ],
      "source": [
        "!pip install mantik mlflow virtualenv gitpython\n",
        "!git clone https://github.com/pyenv/pyenv.git ~/.pyenv\n",
        "import os\n",
        "os.environ[\"PATH\"]=f'{os.environ[\"HOME\"]}/.pyenv/bin:{os.environ[\"PATH\"]}'\n",
        "!apt install cuda-cudart-11-8 libffi-dev"
      ]
    },
    {
      "cell_type": "markdown",
      "source": [
        "## Load Username and Password\n",
        "\n",
        "> NOTE:\n",
        ">\n",
        "> Set username and password as two secrets in Colab. You can add secrets by clicking on the key icon on the left-side. The two secrets must have `username` and `password` as names."
      ],
      "metadata": {
        "id": "LzIN1JW5Pznq"
      }
    },
    {
      "cell_type": "code",
      "source": [
        "from google.colab import userdata\n",
        "\n",
        "import os\n",
        "os.environ[\"MANTIK_USERNAME\"]=userdata.get('username')\n",
        "os.environ[\"MANTIK_PASSWORD\"]=userdata.get('password')\n"
      ],
      "metadata": {
        "id": "AXSEU5w1ujqs"
      },
      "execution_count": 6,
      "outputs": []
    },
    {
      "cell_type": "markdown",
      "source": [
        "## Export Mantik AUTH-Token"
      ],
      "metadata": {
        "id": "UvFKxWOxQUwa"
      }
    },
    {
      "cell_type": "code",
      "source": [
        "import mantik.tracking.track as track\n",
        "\n",
        "os.environ[\"MLFLOW_TRACKING_TOKEN\"] = track.init_tracking().token"
      ],
      "metadata": {
        "id": "g9n7_HfFuwbH"
      },
      "execution_count": 7,
      "outputs": []
    },
    {
      "cell_type": "markdown",
      "source": [
        "## Submit Mantik Run (Training)"
      ],
      "metadata": {
        "id": "kvskRrfmQchN"
      }
    },
    {
      "cell_type": "code",
      "source": [
        "os.environ[\"MANTIK_PROJECT_ID\"] = \"2c2a3541-ed84-4d8c-bb6f-795ffdfe6c67\"\n",
        "os.environ[\"MANTIK_EXPERIMENT_REPOSITORY_ID\"] = \"a7091229-6772-40c7-8a60-c48d3b02aa61\"\n",
        "os.environ[\"MANTIK_CODE_REPOSITORY_ID\"] = \"1a60f06a-b640-410c-b5bd-21b45d1c4afc\"\n",
        "\n",
        "!mantik runs local \"./mnist/MLproject\" --name \"MNIST-Colab\" --branch=main -P \"epochs=8\""
      ],
      "metadata": {
        "colab": {
          "base_uri": "https://localhost:8080/"
        },
        "id": "JPPEuFjfu0Eu",
        "outputId": "9aaadb73-f239-4173-d7f9-715195df794b"
      },
      "execution_count": 19,
      "outputs": [
        {
          "output_type": "stream",
          "name": "stdout",
          "text": [
            "2024/05/10 12:28:45 INFO mlflow.utils.virtualenv: Installing python 3.8.13 if it does not exist\n",
            "2024/05/10 12:28:45 INFO mlflow.utils.virtualenv: Environment /root/.mlflow/envs/mlflow-9137789db49264d23527933c0e5302e9b73c9981 already exists\n",
            "2024/05/10 12:28:45 INFO mlflow.projects.utils: === Created directory /tmp/tmpz4ms3ndr for downloading remote URIs passed to arguments of type 'path' ===\n",
            "2024/05/10 12:28:45 INFO mlflow.projects.backend.local: === Running command 'source /root/.mlflow/envs/mlflow-9137789db49264d23527933c0e5302e9b73c9981/bin/activate && python train.py --batch-size 100 --epochs 8' in run with ID '52f192abd63b4fafb09e574d687bc4fd' === \n",
            "2024-05-10 12:28:46.197416: I tensorflow/stream_executor/platform/default/dso_loader.cc:49] Successfully opened dynamic library libcudart.so.11.0\n",
            "INFO:root:Training data shape: (60000, 28, 28, 1)\n",
            "INFO:root:60000 training samples\n",
            "INFO:root:10000 testing samples\n",
            "2024-05-10 12:28:50.573158: I tensorflow/compiler/jit/xla_cpu_device.cc:41] Not creating XLA devices, tf_xla_enable_xla_devices not set\n",
            "2024-05-10 12:28:50.574253: I tensorflow/stream_executor/platform/default/dso_loader.cc:49] Successfully opened dynamic library libcuda.so.1\n",
            "2024-05-10 12:28:50.594461: I tensorflow/stream_executor/cuda/cuda_gpu_executor.cc:941] successful NUMA node read from SysFS had negative value (-1), but there must be at least one NUMA node, so returning NUMA node zero\n",
            "2024-05-10 12:28:50.594675: I tensorflow/core/common_runtime/gpu/gpu_device.cc:1720] Found device 0 with properties: \n",
            "pciBusID: 0000:00:04.0 name: Tesla T4 computeCapability: 7.5\n",
            "coreClock: 1.59GHz coreCount: 40 deviceMemorySize: 14.75GiB deviceMemoryBandwidth: 298.08GiB/s\n",
            "2024-05-10 12:28:50.594715: I tensorflow/stream_executor/platform/default/dso_loader.cc:49] Successfully opened dynamic library libcudart.so.11.0\n",
            "2024-05-10 12:28:50.595037: W tensorflow/stream_executor/platform/default/dso_loader.cc:60] Could not load dynamic library 'libcublas.so.11'; dlerror: libcublas.so.11: cannot open shared object file: No such file or directory; LD_LIBRARY_PATH: /usr/lib64-nvidia\n",
            "2024-05-10 12:28:50.595151: W tensorflow/stream_executor/platform/default/dso_loader.cc:60] Could not load dynamic library 'libcublasLt.so.11'; dlerror: libcublasLt.so.11: cannot open shared object file: No such file or directory; LD_LIBRARY_PATH: /usr/lib64-nvidia\n",
            "2024-05-10 12:28:50.595247: W tensorflow/stream_executor/platform/default/dso_loader.cc:60] Could not load dynamic library 'libcufft.so.10'; dlerror: libcufft.so.10: cannot open shared object file: No such file or directory; LD_LIBRARY_PATH: /usr/lib64-nvidia\n",
            "2024-05-10 12:28:50.595676: I tensorflow/stream_executor/platform/default/dso_loader.cc:49] Successfully opened dynamic library libcurand.so.10\n",
            "2024-05-10 12:28:50.595800: W tensorflow/stream_executor/platform/default/dso_loader.cc:60] Could not load dynamic library 'libcusolver.so.10'; dlerror: libcusolver.so.10: cannot open shared object file: No such file or directory; LD_LIBRARY_PATH: /usr/lib64-nvidia\n",
            "2024-05-10 12:28:50.595900: W tensorflow/stream_executor/platform/default/dso_loader.cc:60] Could not load dynamic library 'libcusparse.so.11'; dlerror: libcusparse.so.11: cannot open shared object file: No such file or directory; LD_LIBRARY_PATH: /usr/lib64-nvidia\n",
            "2024-05-10 12:28:50.596155: I tensorflow/stream_executor/platform/default/dso_loader.cc:49] Successfully opened dynamic library libcudnn.so.8\n",
            "2024-05-10 12:28:50.596181: W tensorflow/core/common_runtime/gpu/gpu_device.cc:1757] Cannot dlopen some GPU libraries. Please make sure the missing libraries mentioned above are installed properly if you would like to use GPU. Follow the guide at https://www.tensorflow.org/install/gpu for how to download and setup the required libraries for your platform.\n",
            "Skipping registering GPU devices...\n",
            "2024-05-10 12:28:50.596469: I tensorflow/core/platform/cpu_feature_guard.cc:142] This TensorFlow binary is optimized with oneAPI Deep Neural Network Library (oneDNN) to use the following CPU instructions in performance-critical operations:  AVX2 AVX512F FMA\n",
            "To enable them in other operations, rebuild TensorFlow with the appropriate compiler flags.\n",
            "2024-05-10 12:28:50.596623: I tensorflow/compiler/jit/xla_gpu_device.cc:99] Not creating XLA devices, tf_xla_enable_xla_devices not set\n",
            "2024-05-10 12:28:50.596670: I tensorflow/core/common_runtime/gpu/gpu_device.cc:1261] Device interconnect StreamExecutor with strength 1 edge matrix:\n",
            "2024-05-10 12:28:50.596684: I tensorflow/core/common_runtime/gpu/gpu_device.cc:1267]      \n",
            "2024-05-10 12:28:50.655609: W tensorflow/core/framework/cpu_allocator_impl.cc:80] Allocation of 188160000 exceeds 10% of free system memory.\n",
            "2024-05-10 12:28:50.820934: I tensorflow/compiler/mlir/mlir_graph_optimization_pass.cc:116] None of the MLIR optimization passes are enabled (registered 2)\n",
            "2024-05-10 12:28:50.821350: I tensorflow/core/platform/profile_utils/cpu_utils.cc:112] CPU Frequency: 2000189999 Hz\n",
            "Epoch 1/8\n",
            "600/600 [==============================] - 73s 121ms/step - loss: 2.2927 - accuracy: 0.1554 - val_loss: 2.2667 - val_accuracy: 0.2748\n",
            "Epoch 2/8\n",
            "600/600 [==============================] - 73s 122ms/step - loss: 2.2643 - accuracy: 0.2372 - val_loss: 2.2352 - val_accuracy: 0.3572\n",
            "Epoch 3/8\n",
            "600/600 [==============================] - 73s 122ms/step - loss: 2.2354 - accuracy: 0.3039 - val_loss: 2.1980 - val_accuracy: 0.4516\n",
            "Epoch 4/8\n",
            "600/600 [==============================] - 76s 127ms/step - loss: 2.1994 - accuracy: 0.3786 - val_loss: 2.1530 - val_accuracy: 0.5346\n",
            "Epoch 5/8\n",
            "600/600 [==============================] - 73s 122ms/step - loss: 2.1563 - accuracy: 0.4425 - val_loss: 2.0984 - val_accuracy: 0.5863\n",
            "Epoch 6/8\n",
            "600/600 [==============================] - 73s 122ms/step - loss: 2.1013 - accuracy: 0.4969 - val_loss: 2.0314 - val_accuracy: 0.6269\n",
            "Epoch 7/8\n",
            "600/600 [==============================] - 75s 125ms/step - loss: 2.0348 - accuracy: 0.5378 - val_loss: 1.9491 - val_accuracy: 0.6544\n",
            "Epoch 8/8\n",
            "600/600 [==============================] - 74s 123ms/step - loss: 1.9532 - accuracy: 0.5745 - val_loss: 1.8494 - val_accuracy: 0.6780\n",
            "INFO:root:Test loss: 1.8493822813034058\n",
            "INFO:root:Test accuracy: 0.6779999732971191\n",
            "2024-05-10 12:38:47.318725: I tensorflow/stream_executor/cuda/cuda_gpu_executor.cc:941] successful NUMA node read from SysFS had negative value (-1), but there must be at least one NUMA node, so returning NUMA node zero\n",
            "2024-05-10 12:38:47.318942: I tensorflow/core/grappler/devices.cc:69] Number of eligible GPUs (core count >= 8, compute capability >= 0.0): 1\n",
            "2024-05-10 12:38:47.319059: I tensorflow/core/grappler/clusters/single_machine.cc:356] Starting new session\n",
            "2024-05-10 12:38:47.319329: I tensorflow/compiler/jit/xla_gpu_device.cc:99] Not creating XLA devices, tf_xla_enable_xla_devices not set\n",
            "2024-05-10 12:38:47.319525: I tensorflow/stream_executor/cuda/cuda_gpu_executor.cc:941] successful NUMA node read from SysFS had negative value (-1), but there must be at least one NUMA node, so returning NUMA node zero\n",
            "2024-05-10 12:38:47.319732: I tensorflow/core/common_runtime/gpu/gpu_device.cc:1720] Found device 0 with properties: \n",
            "pciBusID: 0000:00:04.0 name: Tesla T4 computeCapability: 7.5\n",
            "coreClock: 1.59GHz coreCount: 40 deviceMemorySize: 14.75GiB deviceMemoryBandwidth: 298.08GiB/s\n",
            "2024-05-10 12:38:47.319777: I tensorflow/stream_executor/platform/default/dso_loader.cc:49] Successfully opened dynamic library libcudart.so.11.0\n",
            "2024-05-10 12:38:47.320023: W tensorflow/stream_executor/platform/default/dso_loader.cc:60] Could not load dynamic library 'libcublas.so.11'; dlerror: libcublas.so.11: cannot open shared object file: No such file or directory; LD_LIBRARY_PATH: /usr/lib64-nvidia\n",
            "2024-05-10 12:38:47.320163: W tensorflow/stream_executor/platform/default/dso_loader.cc:60] Could not load dynamic library 'libcublasLt.so.11'; dlerror: libcublasLt.so.11: cannot open shared object file: No such file or directory; LD_LIBRARY_PATH: /usr/lib64-nvidia\n",
            "2024-05-10 12:38:47.320271: W tensorflow/stream_executor/platform/default/dso_loader.cc:60] Could not load dynamic library 'libcufft.so.10'; dlerror: libcufft.so.10: cannot open shared object file: No such file or directory; LD_LIBRARY_PATH: /usr/lib64-nvidia\n",
            "2024-05-10 12:38:47.320308: I tensorflow/stream_executor/platform/default/dso_loader.cc:49] Successfully opened dynamic library libcurand.so.10\n",
            "2024-05-10 12:38:47.320399: W tensorflow/stream_executor/platform/default/dso_loader.cc:60] Could not load dynamic library 'libcusolver.so.10'; dlerror: libcusolver.so.10: cannot open shared object file: No such file or directory; LD_LIBRARY_PATH: /usr/lib64-nvidia\n",
            "2024-05-10 12:38:47.320493: W tensorflow/stream_executor/platform/default/dso_loader.cc:60] Could not load dynamic library 'libcusparse.so.11'; dlerror: libcusparse.so.11: cannot open shared object file: No such file or directory; LD_LIBRARY_PATH: /usr/lib64-nvidia\n",
            "2024-05-10 12:38:47.320525: I tensorflow/stream_executor/platform/default/dso_loader.cc:49] Successfully opened dynamic library libcudnn.so.8\n",
            "2024-05-10 12:38:47.320541: W tensorflow/core/common_runtime/gpu/gpu_device.cc:1757] Cannot dlopen some GPU libraries. Please make sure the missing libraries mentioned above are installed properly if you would like to use GPU. Follow the guide at https://www.tensorflow.org/install/gpu for how to download and setup the required libraries for your platform.\n",
            "Skipping registering GPU devices...\n",
            "2024-05-10 12:38:47.406151: I tensorflow/core/common_runtime/gpu/gpu_device.cc:1261] Device interconnect StreamExecutor with strength 1 edge matrix:\n",
            "2024-05-10 12:38:47.406193: I tensorflow/core/common_runtime/gpu/gpu_device.cc:1267]      0 \n",
            "2024-05-10 12:38:47.406212: I tensorflow/core/common_runtime/gpu/gpu_device.cc:1280] 0:   N \n",
            "2024-05-10 12:38:47.407409: I tensorflow/core/grappler/optimizers/meta_optimizer.cc:928] Optimization results for grappler item: graph_to_optimize\n",
            "  function_optimizer: function_optimizer did nothing. time = 0.003ms.\n",
            "  function_optimizer: function_optimizer did nothing. time = 0ms.\n",
            "\n",
            "2024-05-10 12:38:47.447660: I tensorflow/compiler/jit/xla_gpu_device.cc:99] Not creating XLA devices, tf_xla_enable_xla_devices not set\n",
            "2024-05-10 12:38:47.447713: I tensorflow/core/common_runtime/gpu/gpu_device.cc:1261] Device interconnect StreamExecutor with strength 1 edge matrix:\n",
            "2024-05-10 12:38:47.447724: I tensorflow/core/common_runtime/gpu/gpu_device.cc:1267]      \n",
            "2024-05-10 12:38:47.549613: I tensorflow/stream_executor/cuda/cuda_gpu_executor.cc:941] successful NUMA node read from SysFS had negative value (-1), but there must be at least one NUMA node, so returning NUMA node zero\n",
            "2024-05-10 12:38:47.549832: I tensorflow/core/grappler/devices.cc:69] Number of eligible GPUs (core count >= 8, compute capability >= 0.0): 1\n",
            "2024-05-10 12:38:47.549948: I tensorflow/core/grappler/clusters/single_machine.cc:356] Starting new session\n",
            "2024-05-10 12:38:47.550176: I tensorflow/compiler/jit/xla_gpu_device.cc:99] Not creating XLA devices, tf_xla_enable_xla_devices not set\n",
            "2024-05-10 12:38:47.550350: I tensorflow/stream_executor/cuda/cuda_gpu_executor.cc:941] successful NUMA node read from SysFS had negative value (-1), but there must be at least one NUMA node, so returning NUMA node zero\n",
            "2024-05-10 12:38:47.550512: I tensorflow/core/common_runtime/gpu/gpu_device.cc:1720] Found device 0 with properties: \n",
            "pciBusID: 0000:00:04.0 name: Tesla T4 computeCapability: 7.5\n",
            "coreClock: 1.59GHz coreCount: 40 deviceMemorySize: 14.75GiB deviceMemoryBandwidth: 298.08GiB/s\n",
            "2024-05-10 12:38:47.550550: I tensorflow/stream_executor/platform/default/dso_loader.cc:49] Successfully opened dynamic library libcudart.so.11.0\n",
            "2024-05-10 12:38:47.550736: W tensorflow/stream_executor/platform/default/dso_loader.cc:60] Could not load dynamic library 'libcublas.so.11'; dlerror: libcublas.so.11: cannot open shared object file: No such file or directory; LD_LIBRARY_PATH: /usr/lib64-nvidia\n",
            "2024-05-10 12:38:47.550869: W tensorflow/stream_executor/platform/default/dso_loader.cc:60] Could not load dynamic library 'libcublasLt.so.11'; dlerror: libcublasLt.so.11: cannot open shared object file: No such file or directory; LD_LIBRARY_PATH: /usr/lib64-nvidia\n",
            "2024-05-10 12:38:47.550975: W tensorflow/stream_executor/platform/default/dso_loader.cc:60] Could not load dynamic library 'libcufft.so.10'; dlerror: libcufft.so.10: cannot open shared object file: No such file or directory; LD_LIBRARY_PATH: /usr/lib64-nvidia\n",
            "2024-05-10 12:38:47.551011: I tensorflow/stream_executor/platform/default/dso_loader.cc:49] Successfully opened dynamic library libcurand.so.10\n",
            "2024-05-10 12:38:47.551102: W tensorflow/stream_executor/platform/default/dso_loader.cc:60] Could not load dynamic library 'libcusolver.so.10'; dlerror: libcusolver.so.10: cannot open shared object file: No such file or directory; LD_LIBRARY_PATH: /usr/lib64-nvidia\n",
            "2024-05-10 12:38:47.551201: W tensorflow/stream_executor/platform/default/dso_loader.cc:60] Could not load dynamic library 'libcusparse.so.11'; dlerror: libcusparse.so.11: cannot open shared object file: No such file or directory; LD_LIBRARY_PATH: /usr/lib64-nvidia\n",
            "2024-05-10 12:38:47.551235: I tensorflow/stream_executor/platform/default/dso_loader.cc:49] Successfully opened dynamic library libcudnn.so.8\n",
            "2024-05-10 12:38:47.551251: W tensorflow/core/common_runtime/gpu/gpu_device.cc:1757] Cannot dlopen some GPU libraries. Please make sure the missing libraries mentioned above are installed properly if you would like to use GPU. Follow the guide at https://www.tensorflow.org/install/gpu for how to download and setup the required libraries for your platform.\n",
            "Skipping registering GPU devices...\n",
            "2024-05-10 12:38:47.551278: I tensorflow/core/common_runtime/gpu/gpu_device.cc:1261] Device interconnect StreamExecutor with strength 1 edge matrix:\n",
            "2024-05-10 12:38:47.551290: I tensorflow/core/common_runtime/gpu/gpu_device.cc:1267]      0 \n",
            "2024-05-10 12:38:47.551302: I tensorflow/core/common_runtime/gpu/gpu_device.cc:1280] 0:   N \n",
            "2024-05-10 12:38:47.558533: I tensorflow/core/grappler/optimizers/meta_optimizer.cc:928] Optimization results for grappler item: graph_to_optimize\n",
            "  constant_folding: Graph size after: 27 nodes (-8), 34 edges (-8), time = 3.223ms.\n",
            "  function_optimizer: function_optimizer did nothing. time = 0.03ms.\n",
            "  dependency_optimizer: Graph size after: 26 nodes (-1), 25 edges (-9), time = 0.303ms.\n",
            "  constant_folding: Graph size after: 26 nodes (0), 25 edges (0), time = 1.073ms.\n",
            "  function_optimizer: function_optimizer did nothing. time = 0.026ms.\n",
            "  dependency_optimizer: Graph size after: 26 nodes (0), 25 edges (0), time = 0.233ms.\n",
            "\n",
            "INFO:tf2onnx.tfonnx:Using tensorflow=2.4.1, onnx=1.15.0, tf2onnx=1.16.1/15c810\n",
            "INFO:tf2onnx.tfonnx:Using opset <onnx, 15>\n",
            "INFO:tf2onnx.tf_utils:Computed 0 values for constant folding\n",
            "INFO:tf2onnx.optimizer:Optimizing ONNX model\n",
            "INFO:tf2onnx.optimizer:After optimization: Cast -1 (1->0), Const +1 (9->10), Identity -2 (2->0), Reshape +1 (1->2), Transpose -7 (8->1)\n",
            "/root/.mlflow/envs/mlflow-9137789db49264d23527933c0e5302e9b73c9981/lib/python3.8/site-packages/_distutils_hack/__init__.py:33: UserWarning: Setuptools is replacing distutils.\n",
            "  warnings.warn(\"Setuptools is replacing distutils.\")\n",
            "INFO:root:52f192abd63b4fafb09e574d687bc4fd\n",
            "2024/05/10 12:38:54 INFO mlflow.projects: === Run (ID '52f192abd63b4fafb09e574d687bc4fd') succeeded ===\n",
            "Done!\n"
          ]
        }
      ]
    }
  ]
}